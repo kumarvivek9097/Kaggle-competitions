{
  "nbformat": 4,
  "nbformat_minor": 0,
  "metadata": {
    "colab": {
      "name": "intel.ipynb",
      "version": "0.3.2",
      "provenance": []
    },
    "kernelspec": {
      "name": "python3",
      "display_name": "Python 3"
    },
    "accelerator": "GPU"
  },
  "cells": [
    {
      "metadata": {
        "id": "irWZnF35GpQX",
        "colab_type": "code",
        "outputId": "8527afd8-ddaf-422d-ed96-242faab2a1dc",
        "colab": {
          "resources": {
            "http://localhost:8080/nbextensions/google.colab/files.js": {
              "data": "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",
              "ok": true,
              "headers": [
                [
                  "content-type",
                  "application/javascript"
                ]
              ],
              "status": 200,
              "status_text": "OK"
            }
          },
          "base_uri": "https://localhost:8080/",
          "height": 83
        }
      },
      "cell_type": "code",
      "source": [
        "from google.colab import files\n",
        "uploaded = files.upload()"
      ],
      "execution_count": 7,
      "outputs": [
        {
          "output_type": "display_data",
          "data": {
            "text/html": [
              "\n",
              "     <input type=\"file\" id=\"files-ee024cdc-a3ee-42ce-88af-bdc3d062bd9c\" name=\"files[]\" multiple disabled />\n",
              "     <output id=\"result-ee024cdc-a3ee-42ce-88af-bdc3d062bd9c\">\n",
              "      Upload widget is only available when the cell has been executed in the\n",
              "      current browser session. Please rerun this cell to enable.\n",
              "      </output>\n",
              "      <script src=\"/nbextensions/google.colab/files.js\"></script> "
            ],
            "text/plain": [
              "<IPython.core.display.HTML object>"
            ]
          },
          "metadata": {
            "tags": []
          }
        },
        {
          "output_type": "stream",
          "text": [
            "Saving test.csv to test.csv\n"
          ],
          "name": "stdout"
        }
      ]
    },
    {
      "metadata": {
        "id": "ftKn1OJZGrIB",
        "colab_type": "code",
        "colab": {}
      },
      "cell_type": "code",
      "source": [
        "import zipfile\n",
        "import io\n",
        "data = zipfile.ZipFile(io.BytesIO(uploaded[\"train-scene classification.zip\"]), 'r')\n",
        "data.extractall()"
      ],
      "execution_count": 0,
      "outputs": []
    },
    {
      "metadata": {
        "id": "ZTsN-UgomB5K",
        "colab_type": "code",
        "colab": {
          "base_uri": "https://localhost:8080/",
          "height": 52
        },
        "outputId": "096a5d90-0a5a-4e0e-81be-4208b1c7a1e8"
      },
      "cell_type": "code",
      "source": [
        "!ls"
      ],
      "execution_count": 1,
      "outputs": [
        {
          "output_type": "stream",
          "text": [
            " sample_data   train\t  'train-scene classification (1).zip'\t vgg16.h5\n",
            " test.csv      train.csv  'train-scene classification.zip'\n"
          ],
          "name": "stdout"
        }
      ]
    },
    {
      "metadata": {
        "id": "5lZ-JIfI6zSn",
        "colab_type": "code",
        "colab": {}
      },
      "cell_type": "code",
      "source": [
        "!cd "
      ],
      "execution_count": 0,
      "outputs": []
    },
    {
      "metadata": {
        "id": "EXDZxnXO7PDL",
        "colab_type": "code",
        "colab": {
          "base_uri": "https://localhost:8080/",
          "height": 34
        },
        "outputId": "9ab28544-0b47-4be5-f8d9-f0856e910755"
      },
      "cell_type": "code",
      "source": [
        "from keras.models import Sequential\n",
        "from scipy.misc import imread\n",
        "get_ipython().magic('matplotlib inline')\n",
        "import matplotlib.pyplot as plt\n",
        "import numpy as np\n",
        "import keras\n",
        "from keras.layers import Dense\n",
        "import pandas as pd\n",
        "from scipy.misc import imresize\n",
        "from keras.applications.vgg16 import VGG16\n",
        "from keras.preprocessing import image\n",
        "from keras.applications.vgg16 import preprocess_input\n",
        "import numpy as np\n",
        "from keras.applications.vgg16 import decode_predictions"
      ],
      "execution_count": 2,
      "outputs": [
        {
          "output_type": "stream",
          "text": [
            "Using TensorFlow backend.\n"
          ],
          "name": "stderr"
        }
      ]
    },
    {
      "metadata": {
        "id": "8cSBh6KC7Qvz",
        "colab_type": "code",
        "colab": {}
      },
      "cell_type": "code",
      "source": [
        "train=pd.read_csv(\"train.csv\")\n",
        "test=pd.read_csv(\"test.csv\")\n",
        "train_path=\"train/\""
      ],
      "execution_count": 0,
      "outputs": []
    },
    {
      "metadata": {
        "id": "xdG0EPAO8YGm",
        "colab_type": "code",
        "colab": {
          "base_uri": "https://localhost:8080/",
          "height": 206
        },
        "outputId": "5c14860d-be7c-4ef9-ef19-f1c615527108"
      },
      "cell_type": "code",
      "source": [
        "train.head()"
      ],
      "execution_count": 12,
      "outputs": [
        {
          "output_type": "execute_result",
          "data": {
            "text/html": [
              "<div>\n",
              "<style scoped>\n",
              "    .dataframe tbody tr th:only-of-type {\n",
              "        vertical-align: middle;\n",
              "    }\n",
              "\n",
              "    .dataframe tbody tr th {\n",
              "        vertical-align: top;\n",
              "    }\n",
              "\n",
              "    .dataframe thead th {\n",
              "        text-align: right;\n",
              "    }\n",
              "</style>\n",
              "<table border=\"1\" class=\"dataframe\">\n",
              "  <thead>\n",
              "    <tr style=\"text-align: right;\">\n",
              "      <th></th>\n",
              "      <th>image_name</th>\n",
              "      <th>label</th>\n",
              "    </tr>\n",
              "  </thead>\n",
              "  <tbody>\n",
              "    <tr>\n",
              "      <th>0</th>\n",
              "      <td>0.jpg</td>\n",
              "      <td>0</td>\n",
              "    </tr>\n",
              "    <tr>\n",
              "      <th>1</th>\n",
              "      <td>1.jpg</td>\n",
              "      <td>4</td>\n",
              "    </tr>\n",
              "    <tr>\n",
              "      <th>2</th>\n",
              "      <td>2.jpg</td>\n",
              "      <td>5</td>\n",
              "    </tr>\n",
              "    <tr>\n",
              "      <th>3</th>\n",
              "      <td>4.jpg</td>\n",
              "      <td>0</td>\n",
              "    </tr>\n",
              "    <tr>\n",
              "      <th>4</th>\n",
              "      <td>7.jpg</td>\n",
              "      <td>4</td>\n",
              "    </tr>\n",
              "  </tbody>\n",
              "</table>\n",
              "</div>"
            ],
            "text/plain": [
              "  image_name  label\n",
              "0      0.jpg      0\n",
              "1      1.jpg      4\n",
              "2      2.jpg      5\n",
              "3      4.jpg      0\n",
              "4      7.jpg      4"
            ]
          },
          "metadata": {
            "tags": []
          },
          "execution_count": 12
        }
      ]
    },
    {
      "metadata": {
        "id": "_1D1bDZiCeTW",
        "colab_type": "code",
        "colab": {
          "base_uri": "https://localhost:8080/",
          "height": 206
        },
        "outputId": "ee680af3-fdbb-410e-9088-4e6c0441dad6"
      },
      "cell_type": "code",
      "source": [
        "test.head()"
      ],
      "execution_count": 26,
      "outputs": [
        {
          "output_type": "execute_result",
          "data": {
            "text/html": [
              "<div>\n",
              "<style scoped>\n",
              "    .dataframe tbody tr th:only-of-type {\n",
              "        vertical-align: middle;\n",
              "    }\n",
              "\n",
              "    .dataframe tbody tr th {\n",
              "        vertical-align: top;\n",
              "    }\n",
              "\n",
              "    .dataframe thead th {\n",
              "        text-align: right;\n",
              "    }\n",
              "</style>\n",
              "<table border=\"1\" class=\"dataframe\">\n",
              "  <thead>\n",
              "    <tr style=\"text-align: right;\">\n",
              "      <th></th>\n",
              "      <th>image_name</th>\n",
              "    </tr>\n",
              "  </thead>\n",
              "  <tbody>\n",
              "    <tr>\n",
              "      <th>0</th>\n",
              "      <td>3.jpg</td>\n",
              "    </tr>\n",
              "    <tr>\n",
              "      <th>1</th>\n",
              "      <td>5.jpg</td>\n",
              "    </tr>\n",
              "    <tr>\n",
              "      <th>2</th>\n",
              "      <td>6.jpg</td>\n",
              "    </tr>\n",
              "    <tr>\n",
              "      <th>3</th>\n",
              "      <td>11.jpg</td>\n",
              "    </tr>\n",
              "    <tr>\n",
              "      <th>4</th>\n",
              "      <td>14.jpg</td>\n",
              "    </tr>\n",
              "  </tbody>\n",
              "</table>\n",
              "</div>"
            ],
            "text/plain": [
              "  image_name\n",
              "0      3.jpg\n",
              "1      5.jpg\n",
              "2      6.jpg\n",
              "3     11.jpg\n",
              "4     14.jpg"
            ]
          },
          "metadata": {
            "tags": []
          },
          "execution_count": 26
        }
      ]
    },
    {
      "metadata": {
        "id": "RLbdapss8BQv",
        "colab_type": "code",
        "colab": {}
      },
      "cell_type": "code",
      "source": [
        "train_img=[]\n",
        "for i in range(len(train[0:10000])):\n",
        "\n",
        "    temp_img=image.load_img(train_path+train['image_name'][i],target_size=(224,224))\n",
        "\n",
        "    temp_img=image.img_to_array(temp_img)\n",
        "\n",
        "    train_img.append(temp_img)"
      ],
      "execution_count": 0,
      "outputs": []
    },
    {
      "metadata": {
        "id": "_DWmC-Y0-C0s",
        "colab_type": "code",
        "colab": {}
      },
      "cell_type": "code",
      "source": [
        "#converting train images to array and applying mean subtraction processing\n",
        "\n",
        "train_img=np.array(train_img) \n",
        "train_img=preprocess_input(train_img)"
      ],
      "execution_count": 0,
      "outputs": []
    },
    {
      "metadata": {
        "id": "FfvleZDG8C7-",
        "colab_type": "code",
        "colab": {}
      },
      "cell_type": "code",
      "source": [
        "test_img=[]\n",
        "for i in range(len(test)):\n",
        "\n",
        "    temp_img=image.load_img(train_path+test['image_name'][i],target_size=(224,224))\n",
        "\n",
        "    temp_img=image.img_to_array(temp_img)\n",
        "\n",
        "    test_img.append(temp_img)\n"
      ],
      "execution_count": 0,
      "outputs": []
    },
    {
      "metadata": {
        "id": "9FyDR31RcuSD",
        "colab_type": "code",
        "colab": {}
      },
      "cell_type": "code",
      "source": [
        "test_img=np.array(test_img) \n",
        "test_img=preprocess_input(test_img)"
      ],
      "execution_count": 0,
      "outputs": []
    },
    {
      "metadata": {
        "id": "N5xvPgMA-Hjp",
        "colab_type": "code",
        "colab": {}
      },
      "cell_type": "code",
      "source": [
        "model = VGG16(weights='imagenet', include_top=False)"
      ],
      "execution_count": 0,
      "outputs": []
    },
    {
      "metadata": {
        "id": "xxOP-G4PbrXN",
        "colab_type": "code",
        "colab": {}
      },
      "cell_type": "code",
      "source": [
        "features_test=model.predict(test_img)"
      ],
      "execution_count": 0,
      "outputs": []
    },
    {
      "metadata": {
        "id": "bAaipA8_Bvqj",
        "colab_type": "code",
        "colab": {
          "base_uri": "https://localhost:8080/",
          "height": 166
        },
        "outputId": "51dd37d2-f81f-4669-8d57-0a8ab5e8e4b5"
      },
      "cell_type": "code",
      "source": [
        "features_train=model.predict(train_img)"
      ],
      "execution_count": 10,
      "outputs": [
        {
          "output_type": "error",
          "ename": "NameError",
          "evalue": "ignored",
          "traceback": [
            "\u001b[0;31m---------------------------------------------------------------------------\u001b[0m",
            "\u001b[0;31mNameError\u001b[0m                                 Traceback (most recent call last)",
            "\u001b[0;32m<ipython-input-10-b82b61ce8531>\u001b[0m in \u001b[0;36m<module>\u001b[0;34m()\u001b[0m\n\u001b[0;32m----> 1\u001b[0;31m \u001b[0mfeatures_train\u001b[0m\u001b[0;34m=\u001b[0m\u001b[0mmodel\u001b[0m\u001b[0;34m.\u001b[0m\u001b[0mpredict\u001b[0m\u001b[0;34m(\u001b[0m\u001b[0mtrain_img\u001b[0m\u001b[0;34m)\u001b[0m\u001b[0;34m\u001b[0m\u001b[0;34m\u001b[0m\u001b[0m\n\u001b[0m",
            "\u001b[0;31mNameError\u001b[0m: name 'train_img' is not defined"
          ]
        }
      ]
    },
    {
      "metadata": {
        "id": "qo5t8Vy6EfAa",
        "colab_type": "code",
        "colab": {
          "base_uri": "https://localhost:8080/",
          "height": 34
        },
        "outputId": "f5f1c83f-efd5-48ed-b82f-6c3d98953fa7"
      },
      "cell_type": "code",
      "source": [
        "features_train.shape"
      ],
      "execution_count": 7,
      "outputs": [
        {
          "output_type": "execute_result",
          "data": {
            "text/plain": [
              "(10000, 7, 7, 512)"
            ]
          },
          "metadata": {
            "tags": []
          },
          "execution_count": 7
        }
      ]
    },
    {
      "metadata": {
        "id": "FqJz3dF-d_gz",
        "colab_type": "code",
        "colab": {
          "base_uri": "https://localhost:8080/",
          "height": 34
        },
        "outputId": "5593710f-e532-453e-ecf7-e700fdd6835b"
      },
      "cell_type": "code",
      "source": [
        "features_test.shape"
      ],
      "execution_count": 16,
      "outputs": [
        {
          "output_type": "execute_result",
          "data": {
            "text/plain": [
              "(7301, 7, 7, 512)"
            ]
          },
          "metadata": {
            "tags": []
          },
          "execution_count": 16
        }
      ]
    },
    {
      "metadata": {
        "id": "u_akfIjVDVlM",
        "colab_type": "code",
        "colab": {
          "base_uri": "https://localhost:8080/",
          "height": 166
        },
        "outputId": "39aa05cb-3cb3-47bd-f8cc-c22e69e04185"
      },
      "cell_type": "code",
      "source": [
        "train_x=features_train.reshape(10000,25088)"
      ],
      "execution_count": 18,
      "outputs": [
        {
          "output_type": "error",
          "ename": "ValueError",
          "evalue": "ignored",
          "traceback": [
            "\u001b[0;31m---------------------------------------------------------------------------\u001b[0m",
            "\u001b[0;31mValueError\u001b[0m                                Traceback (most recent call last)",
            "\u001b[0;32m<ipython-input-18-693250c339d7>\u001b[0m in \u001b[0;36m<module>\u001b[0;34m()\u001b[0m\n\u001b[0;32m----> 1\u001b[0;31m \u001b[0mtrain_x\u001b[0m\u001b[0;34m=\u001b[0m\u001b[0mfeatures_test\u001b[0m\u001b[0;34m.\u001b[0m\u001b[0mreshape\u001b[0m\u001b[0;34m(\u001b[0m\u001b[0;36m10000\u001b[0m\u001b[0;34m,\u001b[0m\u001b[0;36m25088\u001b[0m\u001b[0;34m)\u001b[0m\u001b[0;34m\u001b[0m\u001b[0;34m\u001b[0m\u001b[0m\n\u001b[0m",
            "\u001b[0;31mValueError\u001b[0m: cannot reshape array of size 183167488 into shape (10000,25088)"
          ]
        }
      ]
    },
    {
      "metadata": {
        "id": "Zj1UTtbieEwY",
        "colab_type": "code",
        "colab": {}
      },
      "cell_type": "code",
      "source": [
        "test_x=features_test.reshape(7301,25088)"
      ],
      "execution_count": 0,
      "outputs": []
    },
    {
      "metadata": {
        "id": "0c5PceEpDoxQ",
        "colab_type": "code",
        "colab": {}
      },
      "cell_type": "code",
      "source": [
        "train_y=np.asarray(train['label'][0:10000])"
      ],
      "execution_count": 0,
      "outputs": []
    },
    {
      "metadata": {
        "id": "UlCnrvNLE7y_",
        "colab_type": "code",
        "colab": {}
      },
      "cell_type": "code",
      "source": [
        "train_y=pd.get_dummies(train_y)\n",
        "train_y=np.array(train_y)"
      ],
      "execution_count": 0,
      "outputs": []
    },
    {
      "metadata": {
        "id": "VNwHTK76E_8q",
        "colab_type": "code",
        "colab": {
          "base_uri": "https://localhost:8080/",
          "height": 34
        },
        "outputId": "84896e07-0a63-4cca-8890-82b9a1de1b7b"
      },
      "cell_type": "code",
      "source": [
        "train_y[0]"
      ],
      "execution_count": 11,
      "outputs": [
        {
          "output_type": "execute_result",
          "data": {
            "text/plain": [
              "array([1, 0, 0, 0, 0, 0], dtype=uint8)"
            ]
          },
          "metadata": {
            "tags": []
          },
          "execution_count": 11
        }
      ]
    },
    {
      "metadata": {
        "id": "voFldojUFB32",
        "colab_type": "code",
        "colab": {}
      },
      "cell_type": "code",
      "source": [
        "from sklearn.model_selection import train_test_split\n",
        "X_train, X_valid, Y_train, Y_valid=train_test_split(train_x,train_y,test_size=0.3, random_state=42)"
      ],
      "execution_count": 0,
      "outputs": []
    },
    {
      "metadata": {
        "id": "JeQA_TPfcjUf",
        "colab_type": "code",
        "colab": {
          "base_uri": "https://localhost:8080/",
          "height": 166
        },
        "outputId": "7fcd9bb9-4395-462d-958f-deff76521f48"
      },
      "cell_type": "code",
      "source": [
        "X_train[0]"
      ],
      "execution_count": 12,
      "outputs": [
        {
          "output_type": "error",
          "ename": "NameError",
          "evalue": "ignored",
          "traceback": [
            "\u001b[0;31m---------------------------------------------------------------------------\u001b[0m",
            "\u001b[0;31mNameError\u001b[0m                                 Traceback (most recent call last)",
            "\u001b[0;32m<ipython-input-12-691b4934c597>\u001b[0m in \u001b[0;36m<module>\u001b[0;34m()\u001b[0m\n\u001b[0;32m----> 1\u001b[0;31m \u001b[0mX_train\u001b[0m\u001b[0;34m[\u001b[0m\u001b[0;36m0\u001b[0m\u001b[0;34m]\u001b[0m\u001b[0;34m\u001b[0m\u001b[0;34m\u001b[0m\u001b[0m\n\u001b[0m",
            "\u001b[0;31mNameError\u001b[0m: name 'X_train' is not defined"
          ]
        }
      ]
    },
    {
      "metadata": {
        "id": "bhIjo9CbFKNA",
        "colab_type": "code",
        "colab": {}
      },
      "cell_type": "code",
      "source": [
        "from keras.layers import Dense, Activation\n",
        "model=Sequential()\n",
        "\n",
        "model.add(Dense(1000, input_dim=25088, activation='relu',kernel_initializer='uniform'))\n",
        "keras.layers.core.Dropout(0.3, noise_shape=None, seed=None)\n",
        "\n",
        "model.add(Dense(500,input_dim=1000,activation='sigmoid'))\n",
        "keras.layers.core.Dropout(0.4, noise_shape=None, seed=None)\n",
        "\n",
        "model.add(Dense(150,input_dim=500,activation='sigmoid'))\n",
        "keras.layers.core.Dropout(0.2, noise_shape=None, seed=None)\n",
        "\n",
        "model.add(Dense(units=6))\n",
        "model.add(Activation('softmax'))\n",
        "\n",
        "model.compile(loss='categorical_crossentropy', optimizer=\"adam\", metrics=['accuracy'])"
      ],
      "execution_count": 0,
      "outputs": []
    },
    {
      "metadata": {
        "id": "mRrgUjP9GHw1",
        "colab_type": "code",
        "colab": {
          "base_uri": "https://localhost:8080/",
          "height": 1166
        },
        "outputId": "430db8ad-6f59-4120-976b-a3e419aa8da9"
      },
      "cell_type": "code",
      "source": [
        "# fitting the model \n",
        "\n",
        "model.fit(X_train, Y_train, epochs=30, batch_size=128,validation_data=(X_valid,Y_valid))"
      ],
      "execution_count": 14,
      "outputs": [
        {
          "output_type": "stream",
          "text": [
            "WARNING:tensorflow:From /usr/local/lib/python3.6/dist-packages/tensorflow/python/ops/math_ops.py:3066: to_int32 (from tensorflow.python.ops.math_ops) is deprecated and will be removed in a future version.\n",
            "Instructions for updating:\n",
            "Use tf.cast instead.\n",
            "Train on 7000 samples, validate on 3000 samples\n",
            "Epoch 1/30\n",
            "7000/7000 [==============================] - 4s 594us/step - loss: 0.4583 - acc: 0.8546 - val_loss: 0.2535 - val_acc: 0.9137\n",
            "Epoch 2/30\n",
            "7000/7000 [==============================] - 3s 393us/step - loss: 0.1663 - acc: 0.9487 - val_loss: 0.2234 - val_acc: 0.9193\n",
            "Epoch 3/30\n",
            "7000/7000 [==============================] - 3s 393us/step - loss: 0.1031 - acc: 0.9691 - val_loss: 0.2187 - val_acc: 0.9200\n",
            "Epoch 4/30\n",
            "7000/7000 [==============================] - 3s 399us/step - loss: 0.0580 - acc: 0.9856 - val_loss: 0.2301 - val_acc: 0.9197\n",
            "Epoch 5/30\n",
            "7000/7000 [==============================] - 3s 396us/step - loss: 0.0305 - acc: 0.9929 - val_loss: 0.2568 - val_acc: 0.9200\n",
            "Epoch 6/30\n",
            "7000/7000 [==============================] - 3s 396us/step - loss: 0.0141 - acc: 0.9976 - val_loss: 0.2767 - val_acc: 0.9190\n",
            "Epoch 7/30\n",
            "7000/7000 [==============================] - 3s 397us/step - loss: 0.0083 - acc: 0.9983 - val_loss: 0.3345 - val_acc: 0.9170\n",
            "Epoch 8/30\n",
            "7000/7000 [==============================] - 3s 398us/step - loss: 0.0041 - acc: 0.9994 - val_loss: 0.3322 - val_acc: 0.9217\n",
            "Epoch 9/30\n",
            "7000/7000 [==============================] - 3s 393us/step - loss: 0.0027 - acc: 0.9996 - val_loss: 0.3519 - val_acc: 0.9200\n",
            "Epoch 10/30\n",
            "7000/7000 [==============================] - 3s 392us/step - loss: 0.0020 - acc: 0.9997 - val_loss: 0.3620 - val_acc: 0.9227\n",
            "Epoch 11/30\n",
            "7000/7000 [==============================] - 3s 393us/step - loss: 0.0017 - acc: 0.9997 - val_loss: 0.3730 - val_acc: 0.9230\n",
            "Epoch 12/30\n",
            "7000/7000 [==============================] - 3s 390us/step - loss: 0.0018 - acc: 0.9997 - val_loss: 0.3815 - val_acc: 0.9220\n",
            "Epoch 13/30\n",
            "7000/7000 [==============================] - 3s 400us/step - loss: 0.0015 - acc: 0.9996 - val_loss: 0.3850 - val_acc: 0.9247\n",
            "Epoch 14/30\n",
            "7000/7000 [==============================] - 3s 398us/step - loss: 0.0018 - acc: 0.9994 - val_loss: 0.3858 - val_acc: 0.9243\n",
            "Epoch 15/30\n",
            "7000/7000 [==============================] - 3s 389us/step - loss: 0.0016 - acc: 0.9996 - val_loss: 0.3911 - val_acc: 0.9247\n",
            "Epoch 16/30\n",
            "7000/7000 [==============================] - 3s 392us/step - loss: 0.0014 - acc: 0.9996 - val_loss: 0.3911 - val_acc: 0.9240\n",
            "Epoch 17/30\n",
            "7000/7000 [==============================] - 3s 393us/step - loss: 0.0013 - acc: 0.9996 - val_loss: 0.4013 - val_acc: 0.9237\n",
            "Epoch 18/30\n",
            "7000/7000 [==============================] - 3s 393us/step - loss: 0.0013 - acc: 0.9994 - val_loss: 0.4109 - val_acc: 0.9240\n",
            "Epoch 19/30\n",
            "7000/7000 [==============================] - 3s 389us/step - loss: 0.0013 - acc: 0.9997 - val_loss: 0.4068 - val_acc: 0.9263\n",
            "Epoch 20/30\n",
            "7000/7000 [==============================] - 3s 389us/step - loss: 0.0010 - acc: 0.9997 - val_loss: 0.4178 - val_acc: 0.9243\n",
            "Epoch 21/30\n",
            "7000/7000 [==============================] - 3s 393us/step - loss: 0.0011 - acc: 0.9997 - val_loss: 0.4201 - val_acc: 0.9243\n",
            "Epoch 22/30\n",
            "7000/7000 [==============================] - 3s 389us/step - loss: 0.0010 - acc: 0.9996 - val_loss: 0.4215 - val_acc: 0.9243\n",
            "Epoch 23/30\n",
            "7000/7000 [==============================] - 3s 391us/step - loss: 0.0010 - acc: 0.9996 - val_loss: 0.4214 - val_acc: 0.9253\n",
            "Epoch 24/30\n",
            "7000/7000 [==============================] - 3s 395us/step - loss: 0.0010 - acc: 0.9996 - val_loss: 0.4327 - val_acc: 0.9247\n",
            "Epoch 25/30\n",
            "7000/7000 [==============================] - 3s 394us/step - loss: 8.9358e-04 - acc: 0.9996 - val_loss: 0.4519 - val_acc: 0.9227\n",
            "Epoch 26/30\n",
            "7000/7000 [==============================] - 3s 391us/step - loss: 0.0012 - acc: 0.9996 - val_loss: 0.4403 - val_acc: 0.9240\n",
            "Epoch 27/30\n",
            "7000/7000 [==============================] - 3s 392us/step - loss: 0.0011 - acc: 0.9997 - val_loss: 0.4458 - val_acc: 0.9230\n",
            "Epoch 28/30\n",
            "7000/7000 [==============================] - 3s 398us/step - loss: 0.0012 - acc: 0.9996 - val_loss: 0.4356 - val_acc: 0.9260\n",
            "Epoch 29/30\n",
            "7000/7000 [==============================] - 3s 397us/step - loss: 0.0011 - acc: 0.9996 - val_loss: 0.4363 - val_acc: 0.9243\n",
            "Epoch 30/30\n",
            "7000/7000 [==============================] - 3s 396us/step - loss: 9.4079e-04 - acc: 0.9996 - val_loss: 0.4404 - val_acc: 0.9240\n"
          ],
          "name": "stdout"
        },
        {
          "output_type": "execute_result",
          "data": {
            "text/plain": [
              "<keras.callbacks.History at 0x7f084686a860>"
            ]
          },
          "metadata": {
            "tags": []
          },
          "execution_count": 14
        }
      ]
    },
    {
      "metadata": {
        "id": "-JF_klXZU2DW",
        "colab_type": "code",
        "colab": {}
      },
      "cell_type": "code",
      "source": [
        "from keras.models import load_model\n",
        "\n",
        "model.save('vgg16.h5') "
      ],
      "execution_count": 0,
      "outputs": []
    },
    {
      "metadata": {
        "id": "zRFYgT7cVCR7",
        "colab_type": "code",
        "colab": {
          "base_uri": "https://localhost:8080/",
          "height": 436
        },
        "outputId": "6409fa47-258c-42be-e2ca-cfa0c33517b4"
      },
      "cell_type": "code",
      "source": [
        "new_model = keras.models.load_model('vgg16.h5')\n",
        "new_model.summary()"
      ],
      "execution_count": 5,
      "outputs": [
        {
          "output_type": "stream",
          "text": [
            "WARNING:tensorflow:From /usr/local/lib/python3.6/dist-packages/tensorflow/python/framework/op_def_library.py:263: colocate_with (from tensorflow.python.framework.ops) is deprecated and will be removed in a future version.\n",
            "Instructions for updating:\n",
            "Colocations handled automatically by placer.\n",
            "WARNING:tensorflow:From /usr/local/lib/python3.6/dist-packages/tensorflow/python/ops/math_ops.py:3066: to_int32 (from tensorflow.python.ops.math_ops) is deprecated and will be removed in a future version.\n",
            "Instructions for updating:\n",
            "Use tf.cast instead.\n",
            "_________________________________________________________________\n",
            "Layer (type)                 Output Shape              Param #   \n",
            "=================================================================\n",
            "dense_1 (Dense)              (None, 1000)              25089000  \n",
            "_________________________________________________________________\n",
            "dense_2 (Dense)              (None, 500)               500500    \n",
            "_________________________________________________________________\n",
            "dense_3 (Dense)              (None, 150)               75150     \n",
            "_________________________________________________________________\n",
            "dense_4 (Dense)              (None, 6)                 906       \n",
            "_________________________________________________________________\n",
            "activation_1 (Activation)    (None, 6)                 0         \n",
            "=================================================================\n",
            "Total params: 25,665,556\n",
            "Trainable params: 25,665,556\n",
            "Non-trainable params: 0\n",
            "_________________________________________________________________\n"
          ],
          "name": "stdout"
        }
      ]
    },
    {
      "metadata": {
        "id": "A8fJ_jfgcXX_",
        "colab_type": "code",
        "colab": {}
      },
      "cell_type": "code",
      "source": [
        "y_pred=new_model.predict(test_x, batch_size=128)"
      ],
      "execution_count": 0,
      "outputs": []
    },
    {
      "metadata": {
        "id": "OpA6bDMBeWYh",
        "colab_type": "code",
        "colab": {
          "base_uri": "https://localhost:8080/",
          "height": 52
        },
        "outputId": "dbfeddb1-3495-4cfc-b92b-7cb7e35454db"
      },
      "cell_type": "code",
      "source": [
        "y_pred[0]"
      ],
      "execution_count": 21,
      "outputs": [
        {
          "output_type": "execute_result",
          "data": {
            "text/plain": [
              "array([3.3010732e-05, 2.6304349e-05, 1.9085095e-05, 2.9051358e-05,\n",
              "       1.7387176e-05, 9.9987519e-01], dtype=float32)"
            ]
          },
          "metadata": {
            "tags": []
          },
          "execution_count": 21
        }
      ]
    },
    {
      "metadata": {
        "id": "_8wVn-mserrf",
        "colab_type": "code",
        "colab": {}
      },
      "cell_type": "code",
      "source": [
        "y_classes = y_pred.argmax(axis=-1)"
      ],
      "execution_count": 0,
      "outputs": []
    },
    {
      "metadata": {
        "id": "8o1b8su7e0mL",
        "colab_type": "code",
        "colab": {
          "base_uri": "https://localhost:8080/",
          "height": 34
        },
        "outputId": "fc43bab3-eecf-47d8-853e-bfcd1e8fccc6"
      },
      "cell_type": "code",
      "source": [
        "y_classes[0]"
      ],
      "execution_count": 23,
      "outputs": [
        {
          "output_type": "execute_result",
          "data": {
            "text/plain": [
              "5"
            ]
          },
          "metadata": {
            "tags": []
          },
          "execution_count": 23
        }
      ]
    },
    {
      "metadata": {
        "id": "7-KgU2wdgHpd",
        "colab_type": "code",
        "colab": {}
      },
      "cell_type": "code",
      "source": [
        "prediction=pd.DataFrame()"
      ],
      "execution_count": 0,
      "outputs": []
    },
    {
      "metadata": {
        "id": "EEt-HKoYgFqb",
        "colab_type": "code",
        "colab": {}
      },
      "cell_type": "code",
      "source": [
        "prediction[\"image_name\"]=test[\"image_name\"]"
      ],
      "execution_count": 0,
      "outputs": []
    },
    {
      "metadata": {
        "id": "4cyGwalve-7t",
        "colab_type": "code",
        "colab": {}
      },
      "cell_type": "code",
      "source": [
        "prediction[\"label\"] = y_classes"
      ],
      "execution_count": 0,
      "outputs": []
    },
    {
      "metadata": {
        "id": "JJh0y5h_fm5h",
        "colab_type": "code",
        "colab": {
          "base_uri": "https://localhost:8080/",
          "height": 206
        },
        "outputId": "bb7fd95d-da00-4499-8fad-2c3fbb5f0803"
      },
      "cell_type": "code",
      "source": [
        "prediction.head()"
      ],
      "execution_count": 32,
      "outputs": [
        {
          "output_type": "execute_result",
          "data": {
            "text/html": [
              "<div>\n",
              "<style scoped>\n",
              "    .dataframe tbody tr th:only-of-type {\n",
              "        vertical-align: middle;\n",
              "    }\n",
              "\n",
              "    .dataframe tbody tr th {\n",
              "        vertical-align: top;\n",
              "    }\n",
              "\n",
              "    .dataframe thead th {\n",
              "        text-align: right;\n",
              "    }\n",
              "</style>\n",
              "<table border=\"1\" class=\"dataframe\">\n",
              "  <thead>\n",
              "    <tr style=\"text-align: right;\">\n",
              "      <th></th>\n",
              "      <th>image_name</th>\n",
              "      <th>label</th>\n",
              "    </tr>\n",
              "  </thead>\n",
              "  <tbody>\n",
              "    <tr>\n",
              "      <th>0</th>\n",
              "      <td>3.jpg</td>\n",
              "      <td>5</td>\n",
              "    </tr>\n",
              "    <tr>\n",
              "      <th>1</th>\n",
              "      <td>5.jpg</td>\n",
              "      <td>0</td>\n",
              "    </tr>\n",
              "    <tr>\n",
              "      <th>2</th>\n",
              "      <td>6.jpg</td>\n",
              "      <td>4</td>\n",
              "    </tr>\n",
              "    <tr>\n",
              "      <th>3</th>\n",
              "      <td>11.jpg</td>\n",
              "      <td>2</td>\n",
              "    </tr>\n",
              "    <tr>\n",
              "      <th>4</th>\n",
              "      <td>14.jpg</td>\n",
              "      <td>5</td>\n",
              "    </tr>\n",
              "  </tbody>\n",
              "</table>\n",
              "</div>"
            ],
            "text/plain": [
              "  image_name  label\n",
              "0      3.jpg      5\n",
              "1      5.jpg      0\n",
              "2      6.jpg      4\n",
              "3     11.jpg      2\n",
              "4     14.jpg      5"
            ]
          },
          "metadata": {
            "tags": []
          },
          "execution_count": 32
        }
      ]
    },
    {
      "metadata": {
        "id": "Ma6jhDzogeHM",
        "colab_type": "code",
        "colab": {}
      },
      "cell_type": "code",
      "source": [
        "prediction.to_csv('intel_prediction0.csv',index=False)"
      ],
      "execution_count": 0,
      "outputs": []
    },
    {
      "metadata": {
        "id": "7lS6b5AlgYIA",
        "colab_type": "code",
        "colab": {}
      },
      "cell_type": "code",
      "source": [
        "from google.colab import files\n",
        "files.download(\"intel_prediction0.csv\")\n"
      ],
      "execution_count": 0,
      "outputs": []
    },
    {
      "metadata": {
        "id": "gCyNagpuQfSV",
        "colab_type": "code",
        "colab": {}
      },
      "cell_type": "code",
      "source": [
        "from sklearn.preprocessing import LabelEncoder\n",
        "from keras.models import Sequential\n",
        "from keras.optimizers import SGD\n",
        "from keras.layers import Input, Dense, Convolution2D, MaxPooling2D, AveragePooling2D, ZeroPadding2D, Dropout, Flatten, merge, Reshape, Activation\n",
        "\n",
        "from sklearn.metrics import log_loss"
      ],
      "execution_count": 0,
      "outputs": []
    },
    {
      "metadata": {
        "id": "DM-NJRChGMak",
        "colab_type": "code",
        "colab": {}
      },
      "cell_type": "code",
      "source": [
        "from keras.models import Model\n",
        "def vgg16_model(img_rows, img_cols, channel=1, num_classes=None):\n",
        "\n",
        "    model = VGG16(weights='imagenet', include_top=True)\n",
        "\n",
        "    model.layers.pop()\n",
        "\n",
        "    model.outputs = [model.layers[-1].output]\n",
        "\n",
        "    model.layers[-1].outbound_nodes = []\n",
        "\n",
        "    x=Dense(num_classes, activation='softmax')(model.output)\n",
        "\n",
        "    model=Model(model.input,x)\n",
        "    for layer in model.layers[:8]:\n",
        "\n",
        "       layer.trainable = False\n",
        "       \n",
        "    sgd = SGD(lr=1e-3, decay=1e-6, momentum=0.9, nesterov=True)\n",
        "    model.compile(optimizer=sgd, loss='categorical_crossentropy', metrics=['accuracy'])\n",
        "\n",
        "    return model"
      ],
      "execution_count": 0,
      "outputs": []
    },
    {
      "metadata": {
        "id": "CU6Y_5TQQBbQ",
        "colab_type": "code",
        "colab": {}
      },
      "cell_type": "code",
      "source": [
        "img_rows, img_cols = 224, 224 # Resolution of inputs\n",
        "channel = 3\n",
        "num_classes = 6 \n",
        "batch_size = 32 \n",
        "nb_epoch = 30"
      ],
      "execution_count": 0,
      "outputs": []
    },
    {
      "metadata": {
        "id": "d60y2RPoPlRc",
        "colab_type": "code",
        "colab": {}
      },
      "cell_type": "code",
      "source": [
        "model1 = vgg16_model(img_rows, img_cols, channel, num_classes)"
      ],
      "execution_count": 0,
      "outputs": []
    },
    {
      "metadata": {
        "id": "Eqizz47VQGAz",
        "colab_type": "code",
        "colab": {
          "base_uri": "https://localhost:8080/",
          "height": 1094
        },
        "outputId": "f1ea2da9-d81b-4ce5-aa86-a0347d73c3f0"
      },
      "cell_type": "code",
      "source": [
        "model.fit(X_train, Y_train,batch_size=batch_size,epochs=nb_epoch,shuffle=True,verbose=1,validation_data=(X_valid, Y_valid))"
      ],
      "execution_count": 30,
      "outputs": [
        {
          "output_type": "stream",
          "text": [
            "Train on 5600 samples, validate on 2400 samples\n",
            "Epoch 1/30\n",
            "5600/5600 [==============================] - 7s 1ms/step - loss: 0.1495 - acc: 0.9486 - val_loss: 0.2908 - val_acc: 0.9025\n",
            "Epoch 2/30\n",
            "5600/5600 [==============================] - 6s 1ms/step - loss: 0.1411 - acc: 0.9512 - val_loss: 0.2714 - val_acc: 0.9046\n",
            "Epoch 3/30\n",
            "5600/5600 [==============================] - 6s 1ms/step - loss: 0.1322 - acc: 0.9555 - val_loss: 0.2542 - val_acc: 0.9158\n",
            "Epoch 4/30\n",
            "5600/5600 [==============================] - 6s 1ms/step - loss: 0.1399 - acc: 0.9541 - val_loss: 0.2799 - val_acc: 0.9004\n",
            "Epoch 5/30\n",
            "5600/5600 [==============================] - 6s 1ms/step - loss: 0.1386 - acc: 0.9518 - val_loss: 0.2822 - val_acc: 0.9062\n",
            "Epoch 6/30\n",
            "5600/5600 [==============================] - 6s 1ms/step - loss: 0.1328 - acc: 0.9550 - val_loss: 0.2836 - val_acc: 0.9050\n",
            "Epoch 7/30\n",
            "5600/5600 [==============================] - 6s 1ms/step - loss: 0.1232 - acc: 0.9568 - val_loss: 0.2420 - val_acc: 0.9129\n",
            "Epoch 8/30\n",
            "5600/5600 [==============================] - 6s 1ms/step - loss: 0.1169 - acc: 0.9616 - val_loss: 0.2643 - val_acc: 0.9113\n",
            "Epoch 9/30\n",
            "5600/5600 [==============================] - 6s 1ms/step - loss: 0.1197 - acc: 0.9589 - val_loss: 0.2697 - val_acc: 0.9096\n",
            "Epoch 10/30\n",
            "5600/5600 [==============================] - 6s 1ms/step - loss: 0.1169 - acc: 0.9605 - val_loss: 0.2561 - val_acc: 0.9158\n",
            "Epoch 11/30\n",
            "5600/5600 [==============================] - 6s 1ms/step - loss: 0.1184 - acc: 0.9614 - val_loss: 0.2746 - val_acc: 0.9062\n",
            "Epoch 12/30\n",
            "5600/5600 [==============================] - 6s 1ms/step - loss: 0.1157 - acc: 0.9607 - val_loss: 0.2711 - val_acc: 0.9142\n",
            "Epoch 13/30\n",
            "5600/5600 [==============================] - 6s 1ms/step - loss: 0.1162 - acc: 0.9634 - val_loss: 0.3108 - val_acc: 0.8996\n",
            "Epoch 14/30\n",
            "5600/5600 [==============================] - 6s 1ms/step - loss: 0.1226 - acc: 0.9588 - val_loss: 0.2798 - val_acc: 0.8992\n",
            "Epoch 15/30\n",
            "5600/5600 [==============================] - 6s 1ms/step - loss: 0.1309 - acc: 0.9577 - val_loss: 0.2812 - val_acc: 0.9092\n",
            "Epoch 16/30\n",
            "5600/5600 [==============================] - 6s 1ms/step - loss: 0.1325 - acc: 0.9568 - val_loss: 0.2989 - val_acc: 0.8992\n",
            "Epoch 17/30\n",
            "5600/5600 [==============================] - 6s 1ms/step - loss: 0.1202 - acc: 0.9604 - val_loss: 0.3137 - val_acc: 0.8967\n",
            "Epoch 18/30\n",
            "5600/5600 [==============================] - 6s 1ms/step - loss: 0.1186 - acc: 0.9620 - val_loss: 0.2813 - val_acc: 0.9071\n",
            "Epoch 19/30\n",
            "5600/5600 [==============================] - 6s 1ms/step - loss: 0.1198 - acc: 0.9621 - val_loss: 0.2719 - val_acc: 0.9042\n",
            "Epoch 20/30\n",
            "5600/5600 [==============================] - 6s 1ms/step - loss: 0.1157 - acc: 0.9645 - val_loss: 0.3039 - val_acc: 0.9021\n",
            "Epoch 21/30\n",
            "5600/5600 [==============================] - 6s 1ms/step - loss: 0.1185 - acc: 0.9620 - val_loss: 0.2741 - val_acc: 0.9058\n",
            "Epoch 22/30\n",
            "5600/5600 [==============================] - 6s 1ms/step - loss: 0.1175 - acc: 0.9639 - val_loss: 0.2959 - val_acc: 0.9092\n",
            "Epoch 23/30\n",
            "5600/5600 [==============================] - 6s 1ms/step - loss: 0.1161 - acc: 0.9602 - val_loss: 0.2823 - val_acc: 0.9054\n",
            "Epoch 24/30\n",
            "5600/5600 [==============================] - 6s 1ms/step - loss: 0.1170 - acc: 0.9607 - val_loss: 0.2966 - val_acc: 0.8996\n",
            "Epoch 25/30\n",
            "5600/5600 [==============================] - 6s 1ms/step - loss: 0.1208 - acc: 0.9593 - val_loss: 0.3185 - val_acc: 0.8862\n",
            "Epoch 26/30\n",
            "5600/5600 [==============================] - 6s 1ms/step - loss: 0.1298 - acc: 0.9552 - val_loss: 0.3228 - val_acc: 0.8925\n",
            "Epoch 27/30\n",
            "5600/5600 [==============================] - 6s 1ms/step - loss: 0.1133 - acc: 0.9657 - val_loss: 0.3460 - val_acc: 0.8871\n",
            "Epoch 28/30\n",
            "5600/5600 [==============================] - 6s 1ms/step - loss: 0.1160 - acc: 0.9620 - val_loss: 0.3155 - val_acc: 0.8842\n",
            "Epoch 29/30\n",
            "5600/5600 [==============================] - 6s 1ms/step - loss: 0.1156 - acc: 0.9605 - val_loss: 0.3020 - val_acc: 0.9042\n",
            "Epoch 30/30\n",
            "5600/5600 [==============================] - 6s 1ms/step - loss: 0.1088 - acc: 0.9636 - val_loss: 0.3039 - val_acc: 0.9058\n"
          ],
          "name": "stdout"
        },
        {
          "output_type": "execute_result",
          "data": {
            "text/plain": [
              "<keras.callbacks.History at 0x7efebf3d1908>"
            ]
          },
          "metadata": {
            "tags": []
          },
          "execution_count": 30
        }
      ]
    },
    {
      "metadata": {
        "id": "7c5Qr6URYm3B",
        "colab_type": "code",
        "colab": {
          "base_uri": "https://localhost:8080/",
          "height": 52
        },
        "outputId": "e1ae44f7-0a56-45f5-967d-3a1a48734785"
      },
      "cell_type": "code",
      "source": [
        "!ls"
      ],
      "execution_count": 22,
      "outputs": [
        {
          "output_type": "stream",
          "text": [
            " sample_data   train\t  'train-scene classification (1).zip'\t vgg16.h5\n",
            " test.csv      train.csv  'train-scene classification.zip'\n"
          ],
          "name": "stdout"
        }
      ]
    },
    {
      "metadata": {
        "id": "mnmCzeCQZgzH",
        "colab_type": "code",
        "colab": {}
      },
      "cell_type": "code",
      "source": [
        ""
      ],
      "execution_count": 0,
      "outputs": []
    }
  ]
}